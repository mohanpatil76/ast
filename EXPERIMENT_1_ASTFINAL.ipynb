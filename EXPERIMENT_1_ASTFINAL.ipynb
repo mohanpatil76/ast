{
 "cells": [
  {
   "cell_type": "code",
   "execution_count": 1,
   "id": "dcd2f8c1",
   "metadata": {},
   "outputs": [
    {
     "name": "stdout",
     "output_type": "stream",
     "text": [
      "hello\n"
     ]
    }
   ],
   "source": [
    "print(\"hello\")"
   ]
  },
  {
   "cell_type": "code",
   "execution_count": 19,
   "id": "c16330b1",
   "metadata": {},
   "outputs": [
    {
     "name": "stdout",
     "output_type": "stream",
     "text": [
      "this is file 1.\n"
     ]
    }
   ],
   "source": [
    "fp = open(r\"C:\\Users\\unmes\\OneDrive\\Desktop\\file1.txt\",\"r\")\n",
    "data = fp.read()\n",
    "print(data)"
   ]
  },
  {
   "cell_type": "code",
   "execution_count": 20,
   "id": "98d4b687",
   "metadata": {},
   "outputs": [
    {
     "name": "stdout",
     "output_type": "stream",
     "text": [
      "this id file 2.\n"
     ]
    }
   ],
   "source": [
    "fp = open(r\"C:\\Users\\unmes\\OneDrive\\Desktop\\file2.txt\",\"r\")\n",
    "data1 = fp.read()\n",
    "print(data1)"
   ]
  },
  {
   "cell_type": "code",
   "execution_count": 21,
   "id": "8b04d070",
   "metadata": {},
   "outputs": [
    {
     "name": "stdout",
     "output_type": "stream",
     "text": [
      "this is file 1.this id file 2.\n"
     ]
    }
   ],
   "source": [
    "data+=data1\n",
    "print(data)"
   ]
  },
  {
   "cell_type": "code",
   "execution_count": 23,
   "id": "e4082ea3",
   "metadata": {},
   "outputs": [
    {
     "data": {
      "text/plain": [
       "30"
      ]
     },
     "execution_count": 23,
     "metadata": {},
     "output_type": "execute_result"
    }
   ],
   "source": [
    "fp=open(r\"C:\\Users\\unmes\\OneDrive\\Desktop\\merge.txt\",\"w\")\n",
    "fp.write(data)"
   ]
  },
  {
   "cell_type": "code",
   "execution_count": 25,
   "id": "56064a09",
   "metadata": {},
   "outputs": [
    {
     "name": "stdout",
     "output_type": "stream",
     "text": [
      "8\n"
     ]
    }
   ],
   "source": [
    "count=int(0)\n",
    "fp=open(r\"C:\\Users\\unmes\\OneDrive\\Desktop\\merge.txt\",\"r\")\n",
    "for c in fp.read():\n",
    "    if c=='a' or c=='e' or c=='i' or c=='o' or c=='u' :\n",
    "        count+=1\n",
    "print(count)\n",
    "        "
   ]
  },
  {
   "cell_type": "code",
   "execution_count": null,
   "id": "cee57eab",
   "metadata": {},
   "outputs": [],
   "source": []
  }
 ],
 "metadata": {
  "kernelspec": {
   "display_name": "Python 3 (ipykernel)",
   "language": "python",
   "name": "python3"
  },
  "language_info": {
   "codemirror_mode": {
    "name": "ipython",
    "version": 3
   },
   "file_extension": ".py",
   "mimetype": "text/x-python",
   "name": "python",
   "nbconvert_exporter": "python",
   "pygments_lexer": "ipython3",
   "version": "3.9.7"
  }
 },
 "nbformat": 4,
 "nbformat_minor": 5
}
