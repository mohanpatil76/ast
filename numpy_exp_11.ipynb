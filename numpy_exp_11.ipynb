{
 "cells": [
  {
   "cell_type": "code",
   "execution_count": 1,
   "id": "c520fa27",
   "metadata": {},
   "outputs": [],
   "source": [
    "import numpy as np"
   ]
  },
  {
   "cell_type": "code",
   "execution_count": 4,
   "id": "fd24b395",
   "metadata": {},
   "outputs": [
    {
     "name": "stdout",
     "output_type": "stream",
     "text": [
      "[1 2 3]\n"
     ]
    }
   ],
   "source": [
    "a = np.array([1,2,3], dtype='int32')\n",
    "print(a)"
   ]
  },
  {
   "cell_type": "code",
   "execution_count": 5,
   "id": "d51c464c",
   "metadata": {},
   "outputs": [
    {
     "name": "stdout",
     "output_type": "stream",
     "text": [
      "1 : 1\n",
      "2 : (3,)\n",
      "3 : int32\n",
      "4 : 4\n",
      "5 : 12\n",
      "6 : 3\n",
      "7 : <class 'numpy.ndarray'>\n"
     ]
    }
   ],
   "source": [
    "print(\"1 :\",a.ndim)     \n",
    "print(\"2 :\",a.shape)    \n",
    "print(\"3 :\",a.dtype)    \n",
    "print(\"4 :\",a.itemsize) \n",
    "print(\"5 :\",a.nbytes )  \n",
    "print(\"6 :\",a.size)     \n",
    "print(\"7 :\", type(a)) "
   ]
  },
  {
   "cell_type": "code",
   "execution_count": 9,
   "id": "164c5e13",
   "metadata": {},
   "outputs": [
    {
     "name": "stdout",
     "output_type": "stream",
     "text": [
      "[[1 2 3]\n",
      " [4 5 6]]\n"
     ]
    }
   ],
   "source": [
    "x=np.array([[1,2,3],[4,5,6]])\n",
    "print(x)"
   ]
  },
  {
   "cell_type": "code",
   "execution_count": 10,
   "id": "46df094b",
   "metadata": {},
   "outputs": [
    {
     "data": {
      "text/plain": [
       "array([[1, 2],\n",
       "       [3, 4],\n",
       "       [5, 6]])"
      ]
     },
     "execution_count": 10,
     "metadata": {},
     "output_type": "execute_result"
    }
   ],
   "source": [
    "x.reshape(3,2)"
   ]
  },
  {
   "cell_type": "code",
   "execution_count": 12,
   "id": "1231c932",
   "metadata": {},
   "outputs": [
    {
     "name": "stdout",
     "output_type": "stream",
     "text": [
      "[[ 1  2  3]\n",
      " [ 4  5  6]\n",
      " [ 7  8  9]\n",
      " [10 11 12]]\n"
     ]
    }
   ],
   "source": [
    "v1=np.array([[1,2,3],[4,5,6]])\n",
    "v2=np.array([[7,8,9],[10,11,12]])\n",
    "v3=np.vstack((v1,v2))\n",
    "print(v3)"
   ]
  },
  {
   "cell_type": "code",
   "execution_count": 13,
   "id": "694f79e4",
   "metadata": {},
   "outputs": [
    {
     "name": "stdout",
     "output_type": "stream",
     "text": [
      "[[ 1  2  3  7  8  9]\n",
      " [ 4  5  6 10 11 12]]\n"
     ]
    }
   ],
   "source": [
    "v1=np.array([[1,2,3],[4,5,6]])\n",
    "v2=np.array([[7,8,9],[10,11,12]])\n",
    "v3=np.hstack((v1,v2))\n",
    "print(v3)"
   ]
  },
  {
   "cell_type": "code",
   "execution_count": 14,
   "id": "6aa763f1",
   "metadata": {},
   "outputs": [
    {
     "name": "stdout",
     "output_type": "stream",
     "text": [
      "(3,)\n",
      "1\n",
      "[1 2 3]\n"
     ]
    }
   ],
   "source": [
    "a = np.array([1,2,3])  #Tuple\n",
    "print(a.shape)\n",
    "print(a.ndim)\n",
    "print(a)"
   ]
  },
  {
   "cell_type": "code",
   "execution_count": 15,
   "id": "83dcbeb6",
   "metadata": {},
   "outputs": [
    {
     "name": "stdout",
     "output_type": "stream",
     "text": [
      "(1, 3)\n",
      "2\n",
      "[[1 2 3]]\n"
     ]
    }
   ],
   "source": [
    "a = np.array([1,2,3]).reshape(1,3) #Row Vector\n",
    "print(a.shape)\n",
    "print(a.ndim)\n",
    "print(a)"
   ]
  },
  {
   "cell_type": "code",
   "execution_count": 16,
   "id": "0dc33223",
   "metadata": {},
   "outputs": [
    {
     "name": "stdout",
     "output_type": "stream",
     "text": [
      "[[[ 1  2]\n",
      "  [ 3  4]\n",
      "  [ 5  6]]\n",
      "\n",
      " [[ 7  8]\n",
      "  [ 9 10]\n",
      "  [11 12]]]\n"
     ]
    }
   ],
   "source": [
    "arr = np.array([1, 2, 3, 4, 5, 6, 7, 8, 9, 10, 11, 12])\n",
    "newarr = arr.reshape(2, 3, 2)\n",
    "print(newarr)"
   ]
  },
  {
   "cell_type": "code",
   "execution_count": 19,
   "id": "5af70953",
   "metadata": {},
   "outputs": [
    {
     "name": "stdout",
     "output_type": "stream",
     "text": [
      "(2, 3)\n",
      "2\n",
      "[[1 2 3]\n",
      " [4 5 6]]\n"
     ]
    }
   ],
   "source": [
    "a = np.array([[1,2,3],[4,5,6]]).reshape(-1,3) #Row Vector, -1 automatically finds another dim\n",
    "print(a.shape)\n",
    "print(a.ndim)\n",
    "print(a)"
   ]
  },
  {
   "cell_type": "code",
   "execution_count": 20,
   "id": "bdc266e1",
   "metadata": {},
   "outputs": [
    {
     "name": "stdout",
     "output_type": "stream",
     "text": [
      "[[1 2 3]\n",
      " [4 5 6]\n",
      " [7 8 9]] \n",
      "\n",
      "After Transpose\n",
      "[[1 4 7]\n",
      " [2 5 8]\n",
      " [3 6 9]]\n"
     ]
    }
   ],
   "source": [
    "a=np.array([[1, 2, 3], [4, 5, 6], [7, 8, 9]])\n",
    "print(a,\"\\n\")\n",
    "print(\"After Transpose\")\n",
    "print(a.transpose())"
   ]
  },
  {
   "cell_type": "code",
   "execution_count": 21,
   "id": "11d3cdf8",
   "metadata": {},
   "outputs": [
    {
     "name": "stdout",
     "output_type": "stream",
     "text": [
      "(3,)\n",
      "1\n",
      "[1 2 3]\n",
      "After Transpose\n",
      "(3,)\n",
      "1\n",
      "[1 2 3]\n"
     ]
    }
   ],
   "source": [
    "a = np.array([1, 2, 3])        \n",
    "print(a.shape)\n",
    "print(a.ndim)\n",
    "print(a)\n",
    "print(\"After Transpose\")\n",
    "b=a.transpose()\n",
    "print(b.shape)\n",
    "print(b.ndim)\n",
    "print(b)"
   ]
  },
  {
   "cell_type": "code",
   "execution_count": 24,
   "id": "dde05958",
   "metadata": {},
   "outputs": [
    {
     "name": "stdout",
     "output_type": "stream",
     "text": [
      "[5 7 9]\n"
     ]
    }
   ],
   "source": [
    "v1=[1,2,3]\n",
    "v2=[4,5,6]\n",
    "v3=np.add(v1,v2)\n",
    "print(v3)"
   ]
  },
  {
   "cell_type": "code",
   "execution_count": 25,
   "id": "05f752d3",
   "metadata": {},
   "outputs": [
    {
     "name": "stdout",
     "output_type": "stream",
     "text": [
      "[2 4 6 8]\n"
     ]
    }
   ],
   "source": [
    "x=np.array([1, 2, 3, 4])\n",
    "y=np.array([1, 2, 3, 4])\n",
    "z=x+y\n",
    "print(z)\n"
   ]
  },
  {
   "cell_type": "code",
   "execution_count": 26,
   "id": "aacea489",
   "metadata": {},
   "outputs": [
    {
     "name": "stdout",
     "output_type": "stream",
     "text": [
      "1 : [2 4 6 8]\n",
      "2 : [0 0 0 0]\n",
      "3 : [ 1  4  9 16]\n",
      "4 : [1. 1. 1. 1.]\n",
      "5 : [  1   4  27 256]\n",
      "6 : [0 0 0 0]\n",
      "7 : [0 0 0 0]\n",
      "8 : (array([1, 1, 1, 1], dtype=int32), array([0, 0, 0, 0], dtype=int32))\n"
     ]
    }
   ],
   "source": [
    "x = [1, 2, 3, 4]\n",
    "y = [1, 2, 3, 4]\n",
    " #Vectorization\n",
    "print(\"1 :\",np.add(x, y))\n",
    "print(\"2 :\",np.subtract(x,y))\n",
    "print(\"3 :\",np.multiply(x,y))\n",
    "print(\"4 :\", np.divide(x,y))\n",
    "print(\"5 :\",np.power(x,y))\n",
    "print(\"6 :\",np.mod(x,y))\n",
    "print(\"7 :\",np.remainder(x,y))\n",
    "print(\"8 :\",np.divmod(x,y))"
   ]
  },
  {
   "cell_type": "code",
   "execution_count": 27,
   "id": "9d3529ee",
   "metadata": {},
   "outputs": [
    {
     "name": "stdout",
     "output_type": "stream",
     "text": [
      "[[ 0  1  2  3  4]\n",
      " [ 5  6  7  8  9]\n",
      " [10 11 12 13 14]] \n",
      "\n",
      "[[ 2  3  4  5  6]\n",
      " [ 7  8  9 10 11]\n",
      " [12 13 14 15 16]] \n",
      "\n",
      "[[ 0.          0.84147098  0.90929743  0.14112001 -0.7568025 ]\n",
      " [-0.95892427 -0.2794155   0.6569866   0.98935825  0.41211849]\n",
      " [-0.54402111 -0.99999021 -0.53657292  0.42016704  0.99060736]]\n"
     ]
    }
   ],
   "source": [
    "x= np.arange(15).reshape(3, 5)\n",
    "print(x,\"\\n\")\n",
    "print(x+2,\"\\n\")\n",
    "print(np.sin(x))"
   ]
  },
  {
   "cell_type": "code",
   "execution_count": 28,
   "id": "4da12eac",
   "metadata": {},
   "outputs": [
    {
     "name": "stdout",
     "output_type": "stream",
     "text": [
      "[-3.  4.]\n"
     ]
    }
   ],
   "source": [
    "arr = np.ceil([-3.1666, 3.6667])\n",
    "print(arr)"
   ]
  },
  {
   "cell_type": "code",
   "execution_count": 31,
   "id": "d23781c0",
   "metadata": {},
   "outputs": [
    {
     "name": "stdout",
     "output_type": "stream",
     "text": [
      "[6 8 10 12]\n"
     ]
    }
   ],
   "source": [
    "def myadd(x, y):\n",
    "  return x+y\n",
    "\n",
    "myadd = np.frompyfunc(myadd, 2, 1)         #add function to your NumPy ufunc library with the frompyfunc() method.\n",
    "print(myadd([1, 2, 3, 4], [5, 6, 7, 8]))"
   ]
  },
  {
   "cell_type": "code",
   "execution_count": null,
   "id": "e06f7fed",
   "metadata": {},
   "outputs": [],
   "source": []
  }
 ],
 "metadata": {
  "kernelspec": {
   "display_name": "Python 3 (ipykernel)",
   "language": "python",
   "name": "python3"
  },
  "language_info": {
   "codemirror_mode": {
    "name": "ipython",
    "version": 3
   },
   "file_extension": ".py",
   "mimetype": "text/x-python",
   "name": "python",
   "nbconvert_exporter": "python",
   "pygments_lexer": "ipython3",
   "version": "3.9.7"
  }
 },
 "nbformat": 4,
 "nbformat_minor": 5
}
