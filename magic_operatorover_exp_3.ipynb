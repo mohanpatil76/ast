{
 "cells": [
  {
   "cell_type": "code",
   "execution_count": 5,
   "id": "274dd2a2",
   "metadata": {},
   "outputs": [
    {
     "name": "stdout",
     "output_type": "stream",
     "text": [
      "(4, 6)\n"
     ]
    }
   ],
   "source": [
    "class operatoroverload :\n",
    "    def __init__(self,a,b):\n",
    "        self.x=a\n",
    "        self.y=b\n",
    "    def __add__(self,other):\n",
    "        return self.x+other.x , self.y+other.y\n",
    "        \n",
    "obj1=operatoroverload(2,3)\n",
    "obj2=operatoroverload(2,3)\n",
    "print(obj1+obj2)"
   ]
  },
  {
   "cell_type": "code",
   "execution_count": 15,
   "id": "5ca9aae3",
   "metadata": {},
   "outputs": [
    {
     "name": "stdout",
     "output_type": "stream",
     "text": [
      "(1, 1, 0)\n"
     ]
    }
   ],
   "source": [
    "class Vector :\n",
    "    def __init__(self,a,b,c):\n",
    "        self.x=a\n",
    "        self.y=b\n",
    "        self.z=c\n",
    "    def __sub__(self,other):\n",
    "        return self.x-other.x , self.y-other.y , self.z-other.z\n",
    "        \n",
    "vec1 = Vector(1, 2, 2)\n",
    "vec2 = Vector(0, 1, 2)\n",
    "print(vec1-vec2)"
   ]
  },
  {
   "cell_type": "code",
   "execution_count": 17,
   "id": "70ebc94f",
   "metadata": {},
   "outputs": [
    {
     "name": "stdout",
     "output_type": "stream",
     "text": [
      "(1, 3, 4)\n"
     ]
    }
   ],
   "source": [
    "class Vector :\n",
    "    def __init__(self,a,b,c):\n",
    "        self.x=a\n",
    "        self.y=b\n",
    "        self.z=c\n",
    "    def __add__(self,other):\n",
    "        return self.x+other.x , self.y+other.y , self.z+other.z\n",
    "        \n",
    "vec1 = Vector(1, 2, 2)\n",
    "vec2 = Vector(0, 1, 2)\n",
    "print(vec1+vec2)"
   ]
  },
  {
   "cell_type": "code",
   "execution_count": 18,
   "id": "0858f854",
   "metadata": {},
   "outputs": [
    {
     "name": "stdout",
     "output_type": "stream",
     "text": [
      "(0, 2, 4)\n"
     ]
    }
   ],
   "source": [
    "class Vector :\n",
    "    def __init__(self,a,b,c):\n",
    "        self.x=a\n",
    "        self.y=b\n",
    "        self.z=c\n",
    "    def __mul__(self,other):\n",
    "        return self.x*other.x , self.y*other.y , self.z*other.z\n",
    "        \n",
    "vec1 = Vector(1, 2, 2)\n",
    "vec2 = Vector(0, 1, 2)\n",
    "print(vec1*vec2)"
   ]
  },
  {
   "cell_type": "code",
   "execution_count": 20,
   "id": "bb5182e1",
   "metadata": {},
   "outputs": [
    {
     "name": "stdout",
     "output_type": "stream",
     "text": [
      "(1, 2, 128)\n"
     ]
    }
   ],
   "source": [
    "class Vector :\n",
    "    def __init__(self,a,b,c):\n",
    "        self.x=a\n",
    "        self.y=b\n",
    "        self.z=c\n",
    "    def __pow__(self,other):\n",
    "        return self.x**other.x , self.y**other.y , self.z**other.z\n",
    "        \n",
    "vec1 = Vector(1, 2, 2)\n",
    "vec2 = Vector(0, 1, 7)\n",
    "print(vec1**vec2)"
   ]
  },
  {
   "cell_type": "code",
   "execution_count": 23,
   "id": "863f596c",
   "metadata": {},
   "outputs": [
    {
     "name": "stdout",
     "output_type": "stream",
     "text": [
      "(True, False, True)\n"
     ]
    }
   ],
   "source": [
    "class Vector :\n",
    "    def __init__(self,a,b,c):\n",
    "        self.x=a\n",
    "        self.y=b\n",
    "        self.z=c\n",
    "    def __ge__(self,other):\n",
    "        return self.x>=other.x , self.y>=other.y , self.z>=other.z\n",
    "        \n",
    "vec1 = Vector(1, 2, 2)\n",
    "vec2 = Vector(0, 6, 2)\n",
    "print(vec1>=vec2)"
   ]
  },
  {
   "cell_type": "code",
   "execution_count": 24,
   "id": "e371e04f",
   "metadata": {},
   "outputs": [
    {
     "name": "stdout",
     "output_type": "stream",
     "text": [
      "(False, True, True)\n"
     ]
    }
   ],
   "source": [
    "class Vector :\n",
    "    def __init__(self,a,b,c):\n",
    "        self.x=a\n",
    "        self.y=b\n",
    "        self.z=c\n",
    "    def __le__(self,other):\n",
    "        return self.x<=other.x , self.y<=other.y , self.z<=other.z\n",
    "        \n",
    "vec1 = Vector(1, 2, 2)\n",
    "vec2 = Vector(0, 6, 2)\n",
    "print(vec1<=vec2)"
   ]
  },
  {
   "cell_type": "code",
   "execution_count": null,
   "id": "5190b961",
   "metadata": {},
   "outputs": [],
   "source": []
  }
 ],
 "metadata": {
  "kernelspec": {
   "display_name": "Python 3 (ipykernel)",
   "language": "python",
   "name": "python3"
  },
  "language_info": {
   "codemirror_mode": {
    "name": "ipython",
    "version": 3
   },
   "file_extension": ".py",
   "mimetype": "text/x-python",
   "name": "python",
   "nbconvert_exporter": "python",
   "pygments_lexer": "ipython3",
   "version": "3.9.7"
  }
 },
 "nbformat": 4,
 "nbformat_minor": 5
}
