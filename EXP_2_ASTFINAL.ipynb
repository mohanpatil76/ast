{
 "cells": [
  {
   "cell_type": "code",
   "execution_count": 43,
   "id": "826c51e7",
   "metadata": {},
   "outputs": [],
   "source": [
    "class bank:\n",
    "    def __init__(self,accountNo,name,balance):\n",
    "        self.accountNo=accountNo\n",
    "        self.name=name\n",
    "        self.balance=balance\n",
    "    def checkBalance(self):\n",
    "        print(\"Your Balance is : \",self.balance)\n",
    "    def deposite(self):\n",
    "        amount = int(input(\"Enter amount : \"))\n",
    "        self.balance += amount\n",
    "        print(\"Amount deposited\")\n",
    "        print(\"Your current balance is : \",self.balance)\n",
    "    def withdraw(self):\n",
    "        amount = int(input(\"Enter amount : \"))\n",
    "        if self.balance>=amount:\n",
    "            self.balance-=amount\n",
    "            print(\"Your current balance is : \",self.balance)\n",
    "        else:\n",
    "            print(\"Insufficient balance  \")\n",
    "    def transfer(self,sender):\n",
    "        amount = int(input(\"Enter amount : \"))\n",
    "        if self.balance>=amount:\n",
    "            self.balance-=amount\n",
    "            sender.balance+=amount\n",
    "            #print(\"Your current balance is : \",self.balance)\n",
    "        else:\n",
    "            print(\"Insufficient balance  \")\n"
   ]
  },
  {
   "cell_type": "code",
   "execution_count": 44,
   "id": "552416d4",
   "metadata": {},
   "outputs": [
    {
     "name": "stdout",
     "output_type": "stream",
     "text": [
      "Your Balance is :  1000\n"
     ]
    }
   ],
   "source": [
    "user1 = bank(1,\"Unmesh\",1000)\n",
    "user1.checkBalance()"
   ]
  },
  {
   "cell_type": "code",
   "execution_count": 45,
   "id": "0d076970",
   "metadata": {},
   "outputs": [
    {
     "name": "stdout",
     "output_type": "stream",
     "text": [
      "Your Balance is :  1000\n"
     ]
    }
   ],
   "source": [
    "user2 = bank(2,\"raj\",1000)\n",
    "user2.checkBalance()"
   ]
  },
  {
   "cell_type": "code",
   "execution_count": 46,
   "id": "89dd22d6",
   "metadata": {},
   "outputs": [
    {
     "name": "stdout",
     "output_type": "stream",
     "text": [
      "Enter amount : 500\n"
     ]
    }
   ],
   "source": [
    "user1.transfer(user2)"
   ]
  },
  {
   "cell_type": "code",
   "execution_count": 47,
   "id": "c4a719e7",
   "metadata": {},
   "outputs": [
    {
     "name": "stdout",
     "output_type": "stream",
     "text": [
      "Your Balance is :  500\n",
      "Your Balance is :  1500\n"
     ]
    }
   ],
   "source": [
    "user1.checkBalance()\n",
    "user2.checkBalance()"
   ]
  },
  {
   "cell_type": "code",
   "execution_count": 48,
   "id": "272a271c",
   "metadata": {},
   "outputs": [
    {
     "name": "stdout",
     "output_type": "stream",
     "text": [
      "Enter amount : 600\n",
      "Insufficient balance  \n"
     ]
    }
   ],
   "source": [
    "user1.transfer(user2)"
   ]
  },
  {
   "cell_type": "code",
   "execution_count": 49,
   "id": "e63ba94d",
   "metadata": {},
   "outputs": [
    {
     "name": "stdout",
     "output_type": "stream",
     "text": [
      "Your Balance is :  500\n",
      "Your Balance is :  1500\n"
     ]
    }
   ],
   "source": [
    "user1.checkBalance()\n",
    "user2.checkBalance()"
   ]
  },
  {
   "cell_type": "code",
   "execution_count": 50,
   "id": "482a3cc6",
   "metadata": {},
   "outputs": [
    {
     "name": "stdout",
     "output_type": "stream",
     "text": [
      "Enter amount : 500\n",
      "Amount deposited\n",
      "Your current balance is :  2000\n",
      "Your Balance is :  2000\n"
     ]
    }
   ],
   "source": [
    "user2.deposite()\n",
    "user2.checkBalance()"
   ]
  },
  {
   "cell_type": "code",
   "execution_count": null,
   "id": "714ab510",
   "metadata": {},
   "outputs": [],
   "source": []
  }
 ],
 "metadata": {
  "kernelspec": {
   "display_name": "Python 3 (ipykernel)",
   "language": "python",
   "name": "python3"
  },
  "language_info": {
   "codemirror_mode": {
    "name": "ipython",
    "version": 3
   },
   "file_extension": ".py",
   "mimetype": "text/x-python",
   "name": "python",
   "nbconvert_exporter": "python",
   "pygments_lexer": "ipython3",
   "version": "3.9.7"
  }
 },
 "nbformat": 4,
 "nbformat_minor": 5
}
